{
 "cells": [
  {
   "cell_type": "code",
   "execution_count": 19,
   "metadata": {},
   "outputs": [],
   "source": [
    "import cv2 as cv\n",
    "import os\n",
    "from easyocr import Reader\n",
    "from PIL import Image"
   ]
  },
  {
   "cell_type": "code",
   "execution_count": 20,
   "metadata": {},
   "outputs": [
    {
     "data": {
      "text/plain": [
       "'4.6.0'"
      ]
     },
     "execution_count": 20,
     "metadata": {},
     "output_type": "execute_result"
    }
   ],
   "source": [
    "cv.__version__"
   ]
  },
  {
   "cell_type": "code",
   "execution_count": 4,
   "metadata": {},
   "outputs": [],
   "source": [
    "os.chdir('../')"
   ]
  },
  {
   "cell_type": "code",
   "execution_count": 21,
   "metadata": {},
   "outputs": [
    {
     "data": {
      "text/plain": [
       "'/Users/apple/Documents/Personal/Computer Vision and Deep Learning/card-reader-ml'"
      ]
     },
     "execution_count": 21,
     "metadata": {},
     "output_type": "execute_result"
    }
   ],
   "source": [
    "%pwd"
   ]
  },
  {
   "cell_type": "code",
   "execution_count": 38,
   "metadata": {},
   "outputs": [],
   "source": [
    "ic = cv.imread('data/ic_1.jpg')\n",
    "pil_ic = Image.open('data/ic_1.jpg')\n",
    "# while True:\n",
    "#   cv.imshow('ic display', ic)\n",
    "#   key = cv.waitKey(1)\n",
    "#   if key == ord('q'):\n",
    "#     break\n",
    "# cv.destroyAllWindows()"
   ]
  },
  {
   "cell_type": "code",
   "execution_count": 39,
   "metadata": {},
   "outputs": [
    {
     "name": "stderr",
     "output_type": "stream",
     "text": [
      "Using CPU. Note: This module is much faster with a GPU.\n"
     ]
    },
    {
     "data": {
      "text/plain": [
       "[([[113, 44], [509, 44], [509, 85], [113, 85]],\n",
       "  'KAD PENGENALAN',\n",
       "  0.9569286988293565),\n",
       " ([[113, 75], [503, 75], [503, 137], [113, 137]],\n",
       "  'MALAYSIA',\n",
       "  0.9995599467925289),\n",
       " ([[569, 52], [717, 52], [717, 112], [569, 112]], 'MyKad', 0.9975543845713529),\n",
       " ([[40, 145], [409, 145], [409, 201], [40, 201]],\n",
       "  'dobreplastiki.com',\n",
       "  0.6564247815423153),\n",
       " ([[56, 404], [174, 404], [174, 436], [56, 436]],\n",
       "  'JANUSZ',\n",
       "  0.9999744497575912),\n",
       " ([[52, 484], [306, 484], [306, 516], [52, 516]],\n",
       "  'KAMPUNG MASJID',\n",
       "  0.9995143396901658),\n",
       " ([[52, 510], [208, 510], [208, 542], [52, 542]],\n",
       "  'P 0 BOX 42',\n",
       "  0.7567272312024564),\n",
       " ([[54, 536], [284, 536], [284, 568], [54, 568]],\n",
       "  '89007 KENINGAU',\n",
       "  0.8691820137186052),\n",
       " ([[670, 534], [776, 534], [776, 564], [670, 564]],\n",
       "  'NOSACZ',\n",
       "  0.999849713800862),\n",
       " ([[54, 564], [156, 564], [156, 594], [54, 594]], 'SABAH', 0.9999352789665779),\n",
       " ([[622, 556], [704, 556], [704, 584], [622, 584]],\n",
       "  'ISLAM',\n",
       "  0.9999270688495687),\n",
       " ([[758, 558], [852, 558], [852, 584], [758, 584]],\n",
       "  'LELAKI',\n",
       "  0.9257242797628774),\n",
       " ([[892, 576], [918, 576], [918, 602], [892, 602]], 'M', 0.99848601944473)]"
      ]
     },
     "execution_count": 39,
     "metadata": {},
     "output_type": "execute_result"
    }
   ],
   "source": [
    "reader = Reader(['en'], detector=\"DB\", gpu=False)\n",
    "result = reader.readtext(ic)\n",
    "result2 = reader.readtext('data/ic_1.jpg')\n",
    "result_pil = reader.readtext(pil_ic)\n",
    "result"
   ]
  },
  {
   "cell_type": "code",
   "execution_count": 16,
   "metadata": {},
   "outputs": [
    {
     "data": {
      "text/plain": [
       "[([[111, 44], [509, 44], [509, 85], [111, 85]],\n",
       "  'KAD PENGENALAN',\n",
       "  0.3286847932541812),\n",
       " ([[112, 73], [503, 73], [503, 137], [112, 137]],\n",
       "  'MALAYSIA',\n",
       "  0.8423817669327107),\n",
       " ([[571, 52], [717, 52], [717, 112], [571, 112]], 'MyKad', 0.8515428166133526),\n",
       " ([[40, 145], [409, 145], [409, 201], [40, 201]],\n",
       "  'dobreplastiki.com',\n",
       "  0.9820502632938194),\n",
       " ([[56, 404], [174, 404], [174, 436], [56, 436]],\n",
       "  'JANUSZ',\n",
       "  0.9948555980977105),\n",
       " ([[52, 484], [306, 484], [306, 516], [52, 516]],\n",
       "  'KAMPUNG MASJID',\n",
       "  0.7122131472928724),\n",
       " ([[52, 512], [208, 512], [208, 542], [52, 542]],\n",
       "  'P0BOX 42',\n",
       "  0.7763718121811795),\n",
       " ([[54, 536], [284, 536], [284, 568], [54, 568]],\n",
       "  '89007 KENINGAU',\n",
       "  0.949381954809098),\n",
       " ([[670, 534], [776, 534], [776, 564], [670, 564]],\n",
       "  'NOSACZ',\n",
       "  0.9915840712295658),\n",
       " ([[54, 564], [156, 564], [156, 594], [54, 594]], 'SABAH', 0.9994396188743825),\n",
       " ([[622, 556], [704, 556], [704, 584], [622, 584]],\n",
       "  'ISLAM',\n",
       "  0.9331519040419469),\n",
       " ([[758, 558], [852, 558], [852, 584], [758, 584]],\n",
       "  'LELAKI',\n",
       "  0.9981140463074707),\n",
       " ([[894, 576], [918, 576], [918, 602], [894, 602]], 'M', 0.1946979035847427)]"
      ]
     },
     "execution_count": 16,
     "metadata": {},
     "output_type": "execute_result"
    }
   ],
   "source": [
    "result2"
   ]
  },
  {
   "cell_type": "code",
   "execution_count": 17,
   "metadata": {},
   "outputs": [
    {
     "data": {
      "text/plain": [
       "[([[113, 44], [509, 44], [509, 85], [113, 85]],\n",
       "  'KAD PENGENALAN',\n",
       "  0.34694735571191565),\n",
       " ([[113, 75], [503, 75], [503, 137], [113, 137]],\n",
       "  'MALAYSIA',\n",
       "  0.9061632604424871),\n",
       " ([[569, 52], [717, 52], [717, 112], [569, 112]], 'MyKad', 0.8641170417558467),\n",
       " ([[40, 145], [409, 145], [409, 201], [40, 201]],\n",
       "  'dobreplastiki.com',\n",
       "  0.9780231293594985),\n",
       " ([[56, 404], [174, 404], [174, 436], [56, 436]], 'JANUSZ', 0.995361123589888),\n",
       " ([[52, 484], [306, 484], [306, 516], [52, 516]],\n",
       "  'KAMPUNG MASJID',\n",
       "  0.7709500550916585),\n",
       " ([[52, 510], [208, 510], [208, 542], [52, 542]],\n",
       "  'P0BOX 42',\n",
       "  0.9293487724440775),\n",
       " ([[54, 536], [284, 536], [284, 568], [54, 568]],\n",
       "  '89007 KENINGAU',\n",
       "  0.9579487847884733),\n",
       " ([[670, 534], [776, 534], [776, 564], [670, 564]],\n",
       "  'NOSACZ',\n",
       "  0.99126531875442),\n",
       " ([[54, 564], [156, 564], [156, 594], [54, 594]], 'SABAH', 0.9995458227687687),\n",
       " ([[622, 556], [704, 556], [704, 584], [622, 584]],\n",
       "  'ISLAM',\n",
       "  0.7562582919700961),\n",
       " ([[758, 558], [852, 558], [852, 584], [758, 584]],\n",
       "  'LELAKI',\n",
       "  0.9979581457463127),\n",
       " ([[892, 576], [918, 576], [918, 602], [892, 602]], 'M', 0.9305197913175931)]"
      ]
     },
     "execution_count": 17,
     "metadata": {},
     "output_type": "execute_result"
    }
   ],
   "source": [
    "result_pil"
   ]
  },
  {
   "cell_type": "code",
   "execution_count": null,
   "metadata": {},
   "outputs": [],
   "source": []
  }
 ],
 "metadata": {
  "kernelspec": {
   "display_name": "base",
   "language": "python",
   "name": "python3"
  },
  "language_info": {
   "codemirror_mode": {
    "name": "ipython",
    "version": 3
   },
   "file_extension": ".py",
   "mimetype": "text/x-python",
   "name": "python",
   "nbconvert_exporter": "python",
   "pygments_lexer": "ipython3",
   "version": "3.11.5"
  }
 },
 "nbformat": 4,
 "nbformat_minor": 2
}
