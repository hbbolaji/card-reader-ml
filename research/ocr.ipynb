{
 "cells": [
  {
   "cell_type": "code",
   "execution_count": 2,
   "metadata": {},
   "outputs": [],
   "source": [
    "import cv2 as cv\n",
    "import os\n",
    "from easyocr import Reader"
   ]
  },
  {
   "cell_type": "code",
   "execution_count": 3,
   "metadata": {},
   "outputs": [
    {
     "data": {
      "text/plain": [
       "'4.6.0'"
      ]
     },
     "execution_count": 3,
     "metadata": {},
     "output_type": "execute_result"
    }
   ],
   "source": [
    "cv.__version__"
   ]
  },
  {
   "cell_type": "code",
   "execution_count": 4,
   "metadata": {},
   "outputs": [],
   "source": [
    "os.chdir('../')"
   ]
  },
  {
   "cell_type": "code",
   "execution_count": 5,
   "metadata": {},
   "outputs": [
    {
     "data": {
      "text/plain": [
       "'/Users/apple/Documents/Personal/Computer Vision and Deep Learning/card-reader-ml'"
      ]
     },
     "execution_count": 5,
     "metadata": {},
     "output_type": "execute_result"
    }
   ],
   "source": [
    "%pwd"
   ]
  },
  {
   "cell_type": "code",
   "execution_count": 6,
   "metadata": {},
   "outputs": [],
   "source": [
    "ic = cv.imread('data/ic_1.jpg')\n",
    "# while True:\n",
    "#   cv.imshow('ic display', ic)\n",
    "#   key = cv.waitKey(1)\n",
    "#   if key == ord('q'):\n",
    "#     break\n",
    "# cv.destroyAllWindows()"
   ]
  },
  {
   "cell_type": "code",
   "execution_count": 7,
   "metadata": {},
   "outputs": [
    {
     "name": "stderr",
     "output_type": "stream",
     "text": [
      "Neither CUDA nor MPS are available - defaulting to CPU. Note: This module is much faster with a GPU.\n",
      "Downloading detection model, please wait. This may take several minutes depending upon your network connection.\n"
     ]
    },
    {
     "name": "stdout",
     "output_type": "stream",
     "text": [
      "Progress: |██████████████████████████████████████████████████| 100.0% Complete"
     ]
    },
    {
     "name": "stderr",
     "output_type": "stream",
     "text": [
      "Downloading recognition model, please wait. This may take several minutes depending upon your network connection.\n"
     ]
    },
    {
     "name": "stdout",
     "output_type": "stream",
     "text": [
      "Progress: |██████████████████████████████████████████████████| 100.0% Complete"
     ]
    },
    {
     "data": {
      "text/plain": [
       "[([[111, 44], [509, 44], [509, 85], [111, 85]],\n",
       "  'KAD PENGENALAN',\n",
       "  0.3286847932541812),\n",
       " ([[112, 73], [503, 73], [503, 137], [112, 137]],\n",
       "  'MALAYSIA',\n",
       "  0.8423817669327107),\n",
       " ([[571, 52], [717, 52], [717, 112], [571, 112]], 'MyKad', 0.8515428166133526),\n",
       " ([[40, 145], [409, 145], [409, 201], [40, 201]],\n",
       "  'dobreplastiki.com',\n",
       "  0.9820502632938194),\n",
       " ([[56, 404], [174, 404], [174, 436], [56, 436]],\n",
       "  'JANUSZ',\n",
       "  0.9948555980977105),\n",
       " ([[52, 484], [306, 484], [306, 516], [52, 516]],\n",
       "  'KAMPUNG MASJID',\n",
       "  0.7122131472928724),\n",
       " ([[52, 512], [208, 512], [208, 542], [52, 542]],\n",
       "  'P0BOX 42',\n",
       "  0.7763718121811795),\n",
       " ([[54, 536], [284, 536], [284, 568], [54, 568]],\n",
       "  '89007 KENINGAU',\n",
       "  0.949381954809098),\n",
       " ([[670, 534], [776, 534], [776, 564], [670, 564]],\n",
       "  'NOSACZ',\n",
       "  0.9915840712295658),\n",
       " ([[54, 564], [156, 564], [156, 594], [54, 594]], 'SABAH', 0.9994396188743825),\n",
       " ([[622, 556], [704, 556], [704, 584], [622, 584]],\n",
       "  'ISLAM',\n",
       "  0.9331519040419469),\n",
       " ([[758, 558], [852, 558], [852, 584], [758, 584]],\n",
       "  'LELAKI',\n",
       "  0.9981140463074707),\n",
       " ([[894, 576], [918, 576], [918, 602], [894, 602]], 'M', 0.1946979035847427)]"
      ]
     },
     "execution_count": 7,
     "metadata": {},
     "output_type": "execute_result"
    }
   ],
   "source": [
    "reader = Reader(['ch_sim', 'en'])\n",
    "result = reader.readtext('data/ic_1.jpg')\n",
    "result"
   ]
  },
  {
   "cell_type": "code",
   "execution_count": null,
   "metadata": {},
   "outputs": [],
   "source": []
  }
 ],
 "metadata": {
  "kernelspec": {
   "display_name": "base",
   "language": "python",
   "name": "python3"
  },
  "language_info": {
   "codemirror_mode": {
    "name": "ipython",
    "version": 3
   },
   "file_extension": ".py",
   "mimetype": "text/x-python",
   "name": "python",
   "nbconvert_exporter": "python",
   "pygments_lexer": "ipython3",
   "version": "3.11.5"
  }
 },
 "nbformat": 4,
 "nbformat_minor": 2
}
